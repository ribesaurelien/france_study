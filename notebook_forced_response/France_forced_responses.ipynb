{
 "cells": [
  {
   "cell_type": "markdown",
   "metadata": {},
   "source": [
    "# France Stduy part I: estimation of forced responses\n"
   ]
  },
  {
   "cell_type": "markdown",
   "metadata": {},
   "source": [
    "This notebook provides code for estimation of the forced responses (i.e., ALL, NAT, GHG), both at the global and regional scales, for each CMIP6 model considered."
   ]
  },
  {
   "cell_type": "markdown",
   "metadata": {},
   "source": [
    "## 1. Introduction\n",
    "\n",
    "As **input**, we use pre-processed CMIP6 model outputs: \n",
    "- Xg: GSAT annual mean temperature. An array [year,experiment,model].\n",
    "- Xf: Annual mean temperature over France. Pre-processing in this case includes intrepolation on a .1° grid (accouting for the land-sea mask), masking of Mainland France, computation of the spatial average over France, then the annual mean temperature. An array [year,experiment,model].\n",
    "- Xf_jja and Xf_djf: same over summer / winter. Array [year,experiment,model].\n",
    "\n",
    "As **output**, we provide:\n",
    "- Xg_fit: the estimated forced GSAT responses. An array [year,forcing,model]. Forcing is one of \"all\",\"nat\",\"ghg\", given other terms (e.g., \"ant\",\"oa\") can be recovered assuming additivity.\n",
    "- Xf_fit: same for the regional temperature.\n",
    "- Xfjja_fit and Xfdjf_fit: same for the regional and seasonal temperature. The \"ghg\" response is not estimated in these cases, as it is not used in our analysis.\n",
    "\n",
    "Note that inputs (e.g., Xg) include the data for various SSP scenarios (1-1.9, 2-4.5, 3-7.0, 5-8.5), but the estimation of forced responses is made for \"histssp245\" only in this notebook. Replication to other scenarios is easy.\n",
    "\n",
    "-------------------------------------------------------------------------------------------------------------------"
   ]
  },
  {
   "cell_type": "markdown",
   "metadata": {},
   "source": [
    "## 2. Get started\n",
    "\n",
    "We start with some preliminary R commands.\n",
    "\n",
    "Note that the R package KCC has to be installed first. See instructions on https://gitlab.com/saidqasmi/KCC."
   ]
  },
  {
   "cell_type": "code",
   "execution_count": 1,
   "metadata": {
    "scrolled": true
   },
   "outputs": [
    {
     "name": "stderr",
     "output_type": "stream",
     "text": [
      "Loading required package: splines\n",
      "\n",
      "Loading required package: foreach\n",
      "\n",
      "Loaded gam 1.20\n",
      "\n",
      "\n"
     ]
    }
   ],
   "source": [
    "library(KCC)\n",
    "library(gam)\n",
    "library(abind)\n",
    "library(MASS)\n",
    "# Set random number generator to ensure reproducibility\n",
    "set.seed(13)"
   ]
  },
  {
   "cell_type": "markdown",
   "metadata": {},
   "source": [
    "As the estimation of the ANT response involves smoothing splines, we need to select the number of equivalent degrees of freedom."
   ]
  },
  {
   "cell_type": "code",
   "execution_count": 2,
   "metadata": {},
   "outputs": [],
   "source": [
    "experiments = c(\"histssp245\", \"1pctCO2\", \"histghg\")\n",
    "nexp = length(experiments)\n",
    "# The effective df in x_fit (ANT component)\n",
    "dfg = c( 6, 5, 6 )\n",
    "    names(dfg) = experiments\n",
    "dff = c( 8, 5, 6 )\n",
    "    names(dff) = experiments"
   ]
  },
  {
   "cell_type": "markdown",
   "metadata": {},
   "source": [
    "Load input data (Xg, Xf, Xfjja, Xfdjf)"
   ]
  },
  {
   "cell_type": "code",
   "execution_count": 3,
   "metadata": {},
   "outputs": [],
   "source": [
    "load(\"Processed_CMIP6_data.Rdata\")\n",
    "year = as.numeric(dimnames(Xg)$year)\n",
    "Models = dimnames(Xg)$model\n",
    "ny = length(year)\n",
    "Nmod = length(Models)"
   ]
  },
  {
   "cell_type": "markdown",
   "metadata": {},
   "source": [
    "Initialize outputs: Xg_fit, Xf_fit, Xfjja_fit, Xfdjf_fit"
   ]
  },
  {
   "cell_type": "code",
   "execution_count": 4,
   "metadata": {},
   "outputs": [],
   "source": [
    "Xg_fit = array(NA,dim=c(ny,3,Nmod),#\n",
    "               dimnames=list(year = as.character(year),#\n",
    "                             forc = c(\"all\",\"nat\",\"ghg\"),#\n",
    "                             model = Models))\n",
    "\n",
    "Xf_fit = array(NA,dim=c(ny,3,Nmod),#\n",
    "               dimnames=list(year = as.character(year),#\n",
    "                             forc = c(\"all\",\"nat\",\"ghg\"),#\n",
    "                             model = Models))\n",
    "\n",
    "Xfjja_fit = array(NA,dim=c(ny,3,Nmod),#\n",
    "               dimnames=list(year = as.character(year),#\n",
    "                             forc = c(\"all\",\"nat\",\"ghg\"),#\n",
    "                             model = Models))\n",
    "\n",
    "Xfdjf_fit = array(NA,dim=c(ny,3,Nmod),#\n",
    "               dimnames=list(year = as.character(year),#\n",
    "                             forc = c(\"all\",\"nat\",\"ghg\"),#\n",
    "                             model = Models))"
   ]
  },
  {
   "cell_type": "markdown",
   "metadata": {},
   "source": [
    "## 3. Estimating ALL and NAT responses\n",
    "\n",
    "We first derive an simple EBM response to the CMIP6 NAT forcings time-series."
   ]
  },
  {
   "cell_type": "code",
   "execution_count": 5,
   "metadata": {},
   "outputs": [],
   "source": [
    "load(\"FF_CMIP6_new.rda\")\n",
    "load(\"ebm_params.rda\")\n",
    "Enat = ebm_response(FF,ebm_params,year,Nres=1)"
   ]
  },
  {
   "cell_type": "markdown",
   "metadata": {},
   "source": [
    "ALL and NAT responses in GSAT (i.e., Xg --> Xg_fit)."
   ]
  },
  {
   "cell_type": "code",
   "execution_count": 7,
   "metadata": {},
   "outputs": [
    {
     "name": "stderr",
     "output_type": "stream",
     "text": [
      "Global T: Xg_fit\n",
      "\n",
      "\t\tACCESS-CM2\n",
      "\n",
      "\t\tACCESS-ESM1-5\n",
      "\n",
      "\t\tAWI-CM-1-1-MR\n",
      "\n",
      "\t\tCanESM5-CanOE\n",
      "\n",
      "\t\tCanESM5\n",
      "\n",
      "\t\tCESM2\n",
      "\n",
      "\t\tCESM2-WACCM\n",
      "\n",
      "\t\tCMCC-CM2-SR5\n",
      "\n",
      "\t\tCNRM-CM6-1-HR\n",
      "\n",
      "\t\tCNRM-CM6-1\n",
      "\n",
      "\t\tCNRM-ESM2-1\n",
      "\n",
      "\t\tEC-Earth3-Veg\n",
      "\n",
      "\t\tFGOALS-f3-L\n",
      "\n",
      "\t\tFGOALS-g3\n",
      "\n",
      "\t\tGISS-E2-1-G\n",
      "\n",
      "\t\tINM-CM4-8\n",
      "\n",
      "\t\tIPSL-CM6A-LR\n",
      "\n",
      "\t\tMIROC6\n",
      "\n",
      "\t\tMIROC-ES2L\n",
      "\n",
      "\t\tMPI-ESM1-2-HR\n",
      "\n",
      "\t\tMPI-ESM1-2-LR\n",
      "\n",
      "\t\tMRI-ESM2-0\n",
      "\n",
      "\t\tNorESM2-LM\n",
      "\n",
      "\t\tNorESM2-MM\n",
      "\n",
      "\t\tTaiESM1\n",
      "\n",
      "\t\tUKESM1-0-LL\n",
      "\n",
      "\t\tCAMS-CSM1-0\n",
      "\n",
      "\t\tCAMS-CSM1-0\n",
      "\n"
     ]
    }
   ],
   "source": [
    "message(\"Global T: Xg_fit\")\n",
    "\n",
    "# General case\n",
    "Models_scen_full = Models[ apply(is.na(Xg[,\"histssp245\",]),2,sum)==0 ]\n",
    "Xg_fit[,c(\"all\",\"nat\"),Models_scen_full] = x_fit(Xg[,\"histssp245\",Models_scen_full],Enat,dfg[\"histssp245\"],ant=F)\n",
    "# Particular cases\n",
    "# CAMS-CSM1-0 (simulation stops in 2099)\n",
    "    year_cams = as.character(1850:2099)\n",
    "    Xg_fit[year_cams,c(\"all\",\"nat\"),\"CAMS-CSM1-0\"] = x_fit( Xg[year_cams,\"histssp245\",c(\"CAMS-CSM1-0\",\"CAMS-CSM1-0\")], Enat[year_cams,],dfg[\"histssp245\"],ant=F)[,,1]\n",
    "    Xg_fit[\"2100\",,\"CAMS-CSM1-0\"] = 2 * Xg_fit[\"2099\",,\"CAMS-CSM1-0\"] - Xg_fit[\"2098\",,\"CAMS-CSM1-0\"]\n"
   ]
  },
  {
   "cell_type": "markdown",
   "metadata": {},
   "source": [
    "Same thing for the France temperature Xf, then seasonal France temperature..."
   ]
  },
  {
   "cell_type": "code",
   "execution_count": 9,
   "metadata": {
    "scrolled": true
   },
   "outputs": [
    {
     "name": "stderr",
     "output_type": "stream",
     "text": [
      "France T: Xf_fit\n",
      "\n",
      "\t\tACCESS-CM2\n",
      "\n",
      "\t\tACCESS-ESM1-5\n",
      "\n",
      "\t\tAWI-CM-1-1-MR\n",
      "\n",
      "\t\tCanESM5-CanOE\n",
      "\n",
      "\t\tCanESM5\n",
      "\n",
      "\t\tCESM2\n",
      "\n",
      "\t\tCESM2-WACCM\n",
      "\n",
      "\t\tCMCC-CM2-SR5\n",
      "\n",
      "\t\tCNRM-CM6-1-HR\n",
      "\n",
      "\t\tCNRM-CM6-1\n",
      "\n",
      "\t\tCNRM-ESM2-1\n",
      "\n",
      "\t\tEC-Earth3-Veg\n",
      "\n",
      "\t\tFGOALS-f3-L\n",
      "\n",
      "\t\tFGOALS-g3\n",
      "\n",
      "\t\tGISS-E2-1-G\n",
      "\n",
      "\t\tINM-CM4-8\n",
      "\n",
      "\t\tIPSL-CM6A-LR\n",
      "\n",
      "\t\tMIROC6\n",
      "\n",
      "\t\tMIROC-ES2L\n",
      "\n",
      "\t\tMPI-ESM1-2-HR\n",
      "\n",
      "\t\tMPI-ESM1-2-LR\n",
      "\n",
      "\t\tMRI-ESM2-0\n",
      "\n",
      "\t\tNorESM2-LM\n",
      "\n",
      "\t\tNorESM2-MM\n",
      "\n",
      "\t\tTaiESM1\n",
      "\n",
      "\t\tUKESM1-0-LL\n",
      "\n",
      "\t\tCAMS-CSM1-0\n",
      "\n",
      "\t\tCAMS-CSM1-0\n",
      "\n"
     ]
    }
   ],
   "source": [
    "message(\"France T: Xf_fit\")\n",
    "\n",
    "# General case\n",
    "Xf_fit[,c(\"all\",\"nat\"),Models_scen_full] = x_fit(Xf[,\"histssp245\",Models_scen_full],Enat,dff[\"histssp245\"],ant=F)\n",
    "# Particular cases\n",
    "# CAMS-CSM1-0 (simulation stops in 2099)\n",
    "    year_cams = as.character(1850:2099)\n",
    "    Xf_fit[year_cams,c(\"all\",\"nat\"),\"CAMS-CSM1-0\"] = x_fit(Xf[year_cams,\"histssp245\",c(\"CAMS-CSM1-0\",\"CAMS-CSM1-0\")], Enat[year_cams,],dff[\"histssp245\"],ant=F)[,,1]\n",
    "    Xf_fit[\"2100\",,\"CAMS-CSM1-0\"] = 2 * Xf_fit[\"2099\",,\"CAMS-CSM1-0\"] - Xf_fit[\"2098\",,\"CAMS-CSM1-0\"]"
   ]
  },
  {
   "cell_type": "code",
   "execution_count": 10,
   "metadata": {},
   "outputs": [
    {
     "name": "stderr",
     "output_type": "stream",
     "text": [
      "\tFrance T, summer and winter: Xfjja_fit, Xfdjf_fit\n",
      "\n",
      "\t\tACCESS-CM2\n",
      "\n",
      "\t\tACCESS-ESM1-5\n",
      "\n",
      "\t\tAWI-CM-1-1-MR\n",
      "\n",
      "\t\tCanESM5-CanOE\n",
      "\n",
      "\t\tCanESM5\n",
      "\n",
      "\t\tCESM2\n",
      "\n",
      "\t\tCESM2-WACCM\n",
      "\n",
      "\t\tCMCC-CM2-SR5\n",
      "\n",
      "\t\tCNRM-CM6-1-HR\n",
      "\n",
      "\t\tCNRM-CM6-1\n",
      "\n",
      "\t\tCNRM-ESM2-1\n",
      "\n",
      "\t\tEC-Earth3-Veg\n",
      "\n",
      "\t\tFGOALS-f3-L\n",
      "\n",
      "\t\tFGOALS-g3\n",
      "\n",
      "\t\tGISS-E2-1-G\n",
      "\n",
      "\t\tINM-CM4-8\n",
      "\n",
      "\t\tIPSL-CM6A-LR\n",
      "\n",
      "\t\tMIROC6\n",
      "\n",
      "\t\tMIROC-ES2L\n",
      "\n",
      "\t\tMPI-ESM1-2-HR\n",
      "\n",
      "\t\tMPI-ESM1-2-LR\n",
      "\n",
      "\t\tMRI-ESM2-0\n",
      "\n",
      "\t\tNorESM2-LM\n",
      "\n",
      "\t\tNorESM2-MM\n",
      "\n",
      "\t\tTaiESM1\n",
      "\n",
      "\t\tUKESM1-0-LL\n",
      "\n",
      "\t\tACCESS-CM2\n",
      "\n",
      "\t\tACCESS-ESM1-5\n",
      "\n",
      "\t\tAWI-CM-1-1-MR\n",
      "\n",
      "\t\tCanESM5-CanOE\n",
      "\n",
      "\t\tCanESM5\n",
      "\n",
      "\t\tCESM2\n",
      "\n",
      "\t\tCESM2-WACCM\n",
      "\n",
      "\t\tCMCC-CM2-SR5\n",
      "\n",
      "\t\tCNRM-CM6-1-HR\n",
      "\n",
      "\t\tCNRM-CM6-1\n",
      "\n",
      "\t\tCNRM-ESM2-1\n",
      "\n",
      "\t\tEC-Earth3-Veg\n",
      "\n",
      "\t\tFGOALS-f3-L\n",
      "\n",
      "\t\tFGOALS-g3\n",
      "\n",
      "\t\tGISS-E2-1-G\n",
      "\n",
      "\t\tINM-CM4-8\n",
      "\n",
      "\t\tIPSL-CM6A-LR\n",
      "\n",
      "\t\tMIROC6\n",
      "\n",
      "\t\tMIROC-ES2L\n",
      "\n",
      "\t\tMPI-ESM1-2-HR\n",
      "\n",
      "\t\tMPI-ESM1-2-LR\n",
      "\n",
      "\t\tMRI-ESM2-0\n",
      "\n",
      "\t\tNorESM2-LM\n",
      "\n",
      "\t\tNorESM2-MM\n",
      "\n",
      "\t\tTaiESM1\n",
      "\n",
      "\t\tUKESM1-0-LL\n",
      "\n",
      "\t\tCAMS-CSM1-0\n",
      "\n",
      "\t\tCAMS-CSM1-0\n",
      "\n",
      "\t\tCAMS-CSM1-0\n",
      "\n",
      "\t\tCAMS-CSM1-0\n",
      "\n"
     ]
    }
   ],
   "source": [
    "message(\"\tFrance T, summer and winter: Xfjja_fit, Xfdjf_fit\")\n",
    "\n",
    "# General case\n",
    "Xfjja_fit[,c(\"all\",\"nat\"),Models_scen_full] = x_fit(Xfjja[,\"histssp245\",Models_scen_full],Enat,dff[\"histssp245\"],ant=F)\n",
    "Xfdjf_fit[2:ny,c(\"all\",\"nat\"),Models_scen_full] = x_fit(Xfdjf[2:ny,\"histssp245\",Models_scen_full],Enat[2:ny,],dff[\"histssp245\"],ant=F)\n",
    "# Particular cases\n",
    "# CAMS-CSM1-0 (simulation stops in 2099)\n",
    "\tyear_cams = as.character(1850:2099)\n",
    "\tXfjja_fit[year_cams,c(\"all\",\"nat\"),\"CAMS-CSM1-0\"] = x_fit(Xfjja[year_cams,\"histssp245\",c(\"CAMS-CSM1-0\",\"CAMS-CSM1-0\")], Enat[year_cams,],dff[\"histssp245\"],ant=F)[,,1]\n",
    "\tXfjja_fit[\"2100\",,\"CAMS-CSM1-0\"] = 2 * Xfjja_fit[\"2099\",,\"CAMS-CSM1-0\"] - Xfjja_fit[\"2098\",,\"CAMS-CSM1-0\"]\n",
    "\tXfdjf_fit[year_cams[2:(ny-1)],c(\"all\",\"nat\"),\"CAMS-CSM1-0\"] = x_fit(Xfdjf[year_cams[2:(ny-1)],\"histssp245\",c(\"CAMS-CSM1-0\",\"CAMS-CSM1-0\")], Enat[year_cams[2:(ny-1)],],dff[\"histssp245\"],ant=F)[,,1]\n",
    "\tXfdjf_fit[\"2100\",,\"CAMS-CSM1-0\"] = 2 * Xfdjf_fit[\"2099\",,\"CAMS-CSM1-0\"] - Xfdjf_fit[\"2098\",,\"CAMS-CSM1-0\"]\n",
    "\n",
    "# Trick to keep ny years (and not rewrite all scripts)\n",
    "Xfdjf_fit[\"1850\",,] = Xfdjf_fit[\"1851\",,]"
   ]
  },
  {
   "cell_type": "markdown",
   "metadata": {},
   "source": [
    "## 4. Estimating GHG response\n",
    "\n",
    "This is the most difficult step. The strategy is as follows. \n",
    "\n",
    "For GSAT (see details in Ribes et al., 2021, https://www.science.org/doi/10.1126/sciadv.abc0671):\n",
    "- a. Some CMIP6 models have contributed to DAMIP and provided (complete) histghg runs. For these models, we estimate the GHG response by smoothing the GSAT from histghg runs.\n",
    "- b. Many CMIP6 models simply did not contribute to DAMIP (meaning no histghg run available). For these, we reconstruct the missing histghg runs from the 1%CO2 experiment, and using the ensemble of DAMIP models as a learning sample (i.e. to learn the relationship between the histghg response and the 1%CO2 response). \n",
    "\n",
    "With start with a."
   ]
  },
  {
   "cell_type": "code",
   "execution_count": 11,
   "metadata": {},
   "outputs": [
    {
     "name": "stderr",
     "output_type": "stream",
     "text": [
      "Forced GHG response in histghg runs (GSAT only)\n",
      "\n"
     ]
    }
   ],
   "source": [
    "message(\"Forced GHG response in histghg runs (GSAT only)\")\n",
    "year_ghg = 1850:2020\n",
    "ny_ghg = length(year_ghg)\n",
    "is_histghg_full = (apply(is.na(Xg[as.character(year_ghg),\"histghg\",]),2,sum)==0)\n",
    "Models_histghg_full = Models[is_histghg_full]\n",
    "HatM_ghg_g = hatm(dfg[\"histghg\"],year_ghg)\n",
    "for (mod in Models_histghg_full) {\n",
    "    Xg_fit[as.character(year_ghg),\"ghg\",mod] = HatM_ghg_g %*% Xg[as.character(year_ghg),\"histghg\",mod]\n",
    "}"
   ]
  },
  {
   "cell_type": "markdown",
   "metadata": {},
   "source": [
    "Then b. Reconstruction of missing histghg runs\n",
    "\n",
    "This is done using an adaptation of the KCC method. DAMIP models provide a sample of (1%CO2 + histghg) responses. Non-DAMIP models provide only the 1%CO2 run. So, we use DAMIP models to derive a prior on the (1%CO2+histghg) responses (including how these 2 things are related). Then, say for model M (a non-DAMIP model), we compute the posterior of its histghg response given its 1%CO2 \"observations\".\n",
    "\n",
    "We first assess the 1%CO2 response (for all models)"
   ]
  },
  {
   "cell_type": "code",
   "execution_count": 12,
   "metadata": {},
   "outputs": [
    {
     "name": "stderr",
     "output_type": "stream",
     "text": [
      "Forced CO2 response in 1%-CO2 runs (GSAT only)\n",
      "\n"
     ]
    }
   ],
   "source": [
    "message(\"Forced CO2 response in 1%-CO2 runs (GSAT only)\")\n",
    "year_pct = 1850:1999\n",
    "ny_pct = length(year_pct)\n",
    "HatM_pct_g = hatm(dfg[\"1pctCO2\"],year_pct)\n",
    "Xg_fit_pct = array(NA,dim=c(ny_pct,Nmod),dimnames=list(year=year_pct,model=Models))\n",
    "for (mod in Models) {\n",
    "    Xg_fit_pct[as.character(year_pct),mod] = smooth.spline(year_pct,Xg[as.character(year_pct),\"1pctCO2\",mod],df=dfg[\"1pctCO2\"])$y\n",
    "}"
   ]
  },
  {
   "cell_type": "code",
   "execution_count": 13,
   "metadata": {},
   "outputs": [
    {
     "name": "stderr",
     "output_type": "stream",
     "text": [
      "Reconstructing non-available histghg runs\n",
      "\n"
     ]
    }
   ],
   "source": [
    "message(\"Reconstructing non-available histghg runs\")\n",
    "Models_histghg = Models[ is_histghg_full ]\n",
    "\n",
    "Sr = abind(Xg_fit_pct[, Models_histghg],#\n",
    "           Xg_fit[as.character(year_ghg),\"ghg\", Models_histghg],#\n",
    "           along=1,use.dnns=T)\n",
    "#dimnames(Sr)$year = c(paste0(as.character(year_pct),\"_pct\"),paste0(as.character(year_ghg),\"_ghg\"))\n",
    "Sr_mean = apply(Sr,1,mean)\n",
    "Sr_var = var(t(Sr))\n",
    "\n",
    "# Reconstruction\n",
    "Models_histghg_recons = Models[!is_histghg_full]\n",
    "\n",
    "for (mod in Models_histghg_recons) {\n",
    "    # Extraction operator\n",
    "    H_tmp = abind(diag(rep(1,ny_pct)),array(0,dim=c(ny_pct,ny_ghg)),along=2)\n",
    "    sigma2_tmp = var(Xg[1:140,\"1pctCO2\",mod] - Xg_fit_pct[1:140,mod])\n",
    "    Sigma_y_tmp = HatM_pct_g %*% diag( sigma2_tmp*ones(year_pct) ) %*% t(HatM_pct_g)\n",
    "    v_recons = kriging(Sr_mean,Sr_var,Xg_fit_pct[as.character(year_pct),mod],Sigma_y_tmp,H_tmp)\n",
    "    Xg_fit[as.character(year_ghg),\"ghg\",mod] = v_recons$mean[-(1:ny_pct)]\n",
    "}"
   ]
  },
  {
   "cell_type": "markdown",
   "metadata": {},
   "source": [
    "For France temperature, estimation from histghg runs (where available) was challenging due to a higher internal variability at the regional level. Therefore, we rather assume patern scaling, and estimate the France GHG response as a rescaled GSAT GHG response. The rescaling coefficient is derived from 1%CO2 experiments (which all models have run). \n",
    "\n",
    "Again we start by estimating the forced response in 1%CO2 runs."
   ]
  },
  {
   "cell_type": "code",
   "execution_count": 14,
   "metadata": {
    "scrolled": true
   },
   "outputs": [
    {
     "name": "stderr",
     "output_type": "stream",
     "text": [
      "Forced CO2 response in 1%-CO2 runs (France T)\n",
      "\n"
     ]
    }
   ],
   "source": [
    "message(\"Forced CO2 response in 1%-CO2 runs (France T)\")\n",
    "HatM_pct_f = hatm(dff[\"1pctCO2\"],year_pct)\n",
    "Xf_fit_pct = array(NA,dim=c(ny_pct,Nmod),dimnames=list(year=year_pct,model=Models))\n",
    "for (mod in Models) {\n",
    "    Xf_fit_pct[as.character(year_pct),mod] = smooth.spline(year_pct,Xf[as.character(year_pct),\"1pctCO2\",mod],df=dff[\"1pctCO2\"])$y\n",
    "}"
   ]
  },
  {
   "cell_type": "markdown",
   "metadata": {},
   "source": [
    "Then we apply pattern scaling to derive the GHG-induced warming over France."
   ]
  },
  {
   "cell_type": "code",
   "execution_count": 15,
   "metadata": {},
   "outputs": [],
   "source": [
    "dTg_1pct = apply(Xg_fit_pct[121:140,] - Xg_fit_pct[1:20,],2,mean)\n",
    "dTf_1pct = apply(Xf_fit_pct[121:140,] - Xf_fit_pct[1:20,],2,mean)\n",
    "Ratio_1pct = dTf_1pct / dTg_1pct\n",
    "Xf_fit[,\"ghg\",] = (Xg_fit[,\"ghg\",] - ones(year)%o%apply(Xg_fit[1:50,\"all\",],2,mean)) * (ones(year) %o% Ratio_1pct) + ones(year)%o%apply(Xf_fit[1:50,\"all\",],2,mean)"
   ]
  },
  {
   "cell_type": "markdown",
   "metadata": {},
   "source": [
    "The end:\n",
    "- Xg_fit and Xf_fit are fullfilled.\n",
    "- Same for Xfjja_fit and Xfdjf_fit (except the GHG response, which we do not consider)."
   ]
  }
 ],
 "metadata": {
  "celltoolbar": "Format de la Cellule Texte Brut",
  "kernelspec": {
   "display_name": "R",
   "language": "R",
   "name": "ir"
  },
  "language_info": {
   "codemirror_mode": "r",
   "file_extension": ".r",
   "mimetype": "text/x-r-source",
   "name": "R",
   "pygments_lexer": "r",
   "version": "3.6.3"
  }
 },
 "nbformat": 4,
 "nbformat_minor": 2
}
