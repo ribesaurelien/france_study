{
 "cells": [
  {
   "cell_type": "markdown",
   "metadata": {},
   "source": [
    "# France study part III: daily climate normals"
   ]
  },
  {
   "cell_type": "markdown",
   "metadata": {},
   "source": [
    "This notebook provides code for calculation of daily climate normals.\n",
    "The methodology follows Rigal et al. (2018), with two key differences:\n",
    "- the long-term warming function $g()$ is assumed to be known (derived from the observational constraint). In practice, we regress daily observations of a known $g$.\n",
    "- we also rescaled the estimated warming to ensure the overall warming to match the warming estimated in the observational constraint."
   ]
  },
  {
   "cell_type": "markdown",
   "metadata": {},
   "source": [
    "The main statistical model writes\n",
    "$$ T_{d,y} = f(d) + g(y)h(d) + \\varepsilon_{d,y}, $$\n",
    "where $T_{d,y}$ is the temperature of day $d$ and year $y$, $f(d)$ is the normal in a stationary climate, $g(y)h(d)$ is the change in normals induced by climate change, and $\\varepsilon_{d,y}$ is internal variability."
   ]
  },
  {
   "cell_type": "markdown",
   "metadata": {},
   "source": [
    "We start with some preliminary R commands"
   ]
  },
  {
   "cell_type": "code",
   "execution_count": 4,
   "metadata": {},
   "outputs": [],
   "source": [
    "library(grid)"
   ]
  },
  {
   "cell_type": "markdown",
   "metadata": {},
   "source": [
    "Select smoothness for functions $f()$ and $h()$ (following Rigal et al., 2018)"
   ]
  },
  {
   "cell_type": "code",
   "execution_count": 8,
   "metadata": {},
   "outputs": [],
   "source": [
    "dff = 15\n",
    "dfh = 6"
   ]
  },
  {
   "cell_type": "markdown",
   "metadata": {},
   "source": [
    "Compile useful function for periodic smoothing splines. \n",
    "\n",
    "Note: smoothing splines are easy to use in R with 'smooth.spline()'. But, we find no easy way to calculate periodic smoothing splines (which are needed here). The 2 functions here enable us to derive periodic smoothing splines. There may exist another R package doing this...\n"
   ]
  },
  {
   "cell_type": "code",
   "execution_count": 3,
   "metadata": {},
   "outputs": [],
   "source": [
    "source(\"baseSplinePer.R\")\n",
    "source(\"dl2rho.R\")"
   ]
  },
  {
   "cell_type": "markdown",
   "metadata": {},
   "source": [
    "## I. Data"
   ]
  },
  {
   "cell_type": "markdown",
   "metadata": {},
   "source": [
    "Load daily data"
   ]
  },
  {
   "cell_type": "code",
   "execution_count": 1,
   "metadata": {},
   "outputs": [],
   "source": [
    "load(\"IT_quot.Rdata\")  # variable M\n",
    "period = as.numeric(dimnames(M)$year)\n",
    "ny = length(period)"
   ]
  },
  {
   "cell_type": "markdown",
   "metadata": {},
   "source": [
    "Load the \"known\" $g()$ function"
   ]
  },
  {
   "cell_type": "code",
   "execution_count": 2,
   "metadata": {},
   "outputs": [],
   "source": [
    "load(\"g_cons.Rdata\")\n",
    "g = g[as.character(period)]"
   ]
  },
  {
   "cell_type": "markdown",
   "metadata": {},
   "source": [
    "## II. Calculation\n"
   ]
  }
 ],
 "metadata": {
  "kernelspec": {
   "display_name": "R",
   "language": "R",
   "name": "ir"
  },
  "language_info": {
   "codemirror_mode": "r",
   "file_extension": ".r",
   "mimetype": "text/x-r-source",
   "name": "R",
   "pygments_lexer": "r",
   "version": "3.6.3"
  }
 },
 "nbformat": 4,
 "nbformat_minor": 2
}
